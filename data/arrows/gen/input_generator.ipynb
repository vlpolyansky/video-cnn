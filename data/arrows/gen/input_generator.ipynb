{
 "cells": [
  {
   "cell_type": "code",
   "execution_count": 1,
   "metadata": {
    "collapsed": false
   },
   "outputs": [
    {
     "name": "stdout",
     "output_type": "stream",
     "text": [
      "Populating the interactive namespace from numpy and matplotlib\n"
     ]
    }
   ],
   "source": [
    "%pylab inline"
   ]
  },
  {
   "cell_type": "code",
   "execution_count": 2,
   "metadata": {
    "collapsed": true
   },
   "outputs": [],
   "source": [
    "import os\n",
    "import sys\n",
    "from PIL import Image, ImageChops, ImageDraw\n",
    "import random as rand\n",
    "import math\n",
    "from IPython import display"
   ]
  },
  {
   "cell_type": "markdown",
   "metadata": {},
   "source": [
    "## 0. Utility"
   ]
  },
  {
   "cell_type": "code",
   "execution_count": 3,
   "metadata": {
    "collapsed": true
   },
   "outputs": [],
   "source": [
    "def create_dir(path):\n",
    "    if not os.path.exists(path):\n",
    "        os.makedirs(path)\n",
    "        \n",
    "def randfloat(a, b):\n",
    "    return rand.random() * (b - a) + a\n",
    "\n",
    "def my_print(s):\n",
    "    sys.stdout.write(s)\n",
    "    sys.stdout.flush()"
   ]
  },
  {
   "cell_type": "markdown",
   "metadata": {},
   "source": [
    "## 1. Generate background"
   ]
  },
  {
   "cell_type": "code",
   "execution_count": 4,
   "metadata": {
    "collapsed": false
   },
   "outputs": [],
   "source": [
    "raw_dir = \"./backgrounds_raw/\"\n",
    "back_dir = \"./backgrounds/\"\n",
    "\n",
    "back_size = (64, 64)\n",
    "\n",
    "create_dir(back_dir)"
   ]
  },
  {
   "cell_type": "code",
   "execution_count": null,
   "metadata": {
    "collapsed": true
   },
   "outputs": [],
   "source": [
    "def handle_raw(image, cur_idx):\n",
    "    image = image.convert(\"RGB\")\n",
    "    image = image.resize((back_size[0] * 4, back_size[1] * 4))\n",
    "    size = image.size\n",
    "    cx = size[0] / back_size[0]\n",
    "    cy = size[1] / back_size[1]\n",
    "#     if cur_idx + cx * cy <= skip_N:\n",
    "#         cur_idx += cx * cy\n",
    "#         return cur_idx\n",
    "\n",
    "    for i in xrange(cx):\n",
    "        for j in xrange(cy):\n",
    "            image_tmp = image.transform(back_size, Image.EXTENT, (back_size[0] * i, back_size[1] * j, \n",
    "                                                          back_size[0] * (i + 1), back_size[1] * (j + 1)))\n",
    "            image_tmp.save(os.path.join(back_dir, str(cur_idx) + \".png\"), \"PNG\")\n",
    "            cur_idx += 1\n",
    "            \n",
    "            if cur_idx % 1000 == 0:\n",
    "                my_print(\"\\rcur_idx = %i\" % cur_idx)\n",
    "    \n",
    "    return cur_idx"
   ]
  },
  {
   "cell_type": "code",
   "execution_count": null,
   "metadata": {
    "collapsed": false
   },
   "outputs": [],
   "source": [
    "N = 0\n",
    "for block_name in os.listdir(raw_dir):\n",
    "    block_dir = os.path.join(raw_dir, block_name)\n",
    "    for image_name in os.listdir(block_dir):\n",
    "        image_path = os.path.join(block_dir, image_name)\n",
    "        image = Image.open(image_path)\n",
    "        N = handle_raw(image, N)\n",
    "        "
   ]
  },
  {
   "cell_type": "code",
   "execution_count": null,
   "metadata": {
    "collapsed": false
   },
   "outputs": [],
   "source": [
    "print N"
   ]
  },
  {
   "cell_type": "markdown",
   "metadata": {},
   "source": [
    "total: 116102"
   ]
  },
  {
   "cell_type": "markdown",
   "metadata": {},
   "source": [
    "## 2. Generate input"
   ]
  },
  {
   "cell_type": "code",
   "execution_count": 5,
   "metadata": {
    "collapsed": false
   },
   "outputs": [],
   "source": [
    "arrows_dir = \"./arrows/\"\n",
    "\n",
    "input_dir = \"../input/\"\n",
    "create_dir(input_dir)\n",
    "\n",
    "input_size = back_size\n",
    "\n",
    "arrow_size = (16, 16)\n",
    "\n",
    "min_speed = 5\n",
    "max_speed = 30\n",
    "min_scale = .5\n",
    "max_scale = 1.5"
   ]
  },
  {
   "cell_type": "code",
   "execution_count": 6,
   "metadata": {
    "collapsed": false
   },
   "outputs": [
    {
     "name": "stdout",
     "output_type": "stream",
     "text": [
      "4\n"
     ]
    }
   ],
   "source": [
    "arrows = []\n",
    "for arrow_name in os.listdir(arrows_dir):\n",
    "    arrow_path = os.path.join(arrows_dir, arrow_name)\n",
    "    image = Image.open(arrow_path)\n",
    "    image = image.split()[0].convert(\"1\")\n",
    "    image = ImageChops.invert(image)\n",
    "    image = image.resize(arrow_size, Image.ANTIALIAS)\n",
    "    arrows.append(image)\n",
    "    \n",
    "arrow_cnt = len(arrows)\n",
    "print arrow_cnt"
   ]
  },
  {
   "cell_type": "code",
   "execution_count": 7,
   "metadata": {
    "collapsed": false
   },
   "outputs": [],
   "source": [
    "def handle_true(back_image):\n",
    "    top_image = back_image.copy()\n",
    "    bot_image = back_image.copy()\n",
    "    top_draw = ImageDraw.Draw(top_image)\n",
    "    bot_draw = ImageDraw.Draw(bot_image)\n",
    "    cnts = [1, 1, 1, 2, 2, 3]\n",
    "    arrow_cnt = cnts[rand.randint(0, len(cnts) - 1)]\n",
    "    direction = rand.randint(0, 1) * 2 - 1\n",
    "    for i in xrange(arrow_cnt):\n",
    "        cur_arrow = arrows[rand.randint(0, arrow_cnt - 1)].copy()\n",
    "        cur_arrow = cur_arrow.resize((int(cur_arrow.size[0] * randfloat(min_scale, max_scale)),\n",
    "                                      int(cur_arrow.size[1] * randfloat(min_scale, max_scale))))\n",
    "        arrow_color = (rand.randint(0, 255), rand.randint(0, 255), rand.randint(0, 255))\n",
    "        angle = rand.random() * 360\n",
    "        cur_arrow = cur_arrow.rotate(angle, expand=True)\n",
    "        x0 = rand.randint(0, back_image.size[0] - cur_arrow.size[0] - 1)\n",
    "        y0 = rand.randint(0, back_image.size[1] - cur_arrow.size[1] - 1)\n",
    "        speed = rand.randint(min_speed, max_speed)\n",
    "        x1 = int(x0 + direction * speed * math.cos(angle * math.pi / 180))\n",
    "        y1 = int(y0 - direction * speed * math.sin(angle * math.pi / 180))\n",
    "        \n",
    "#         print arrow_color, x0, y0\n",
    "        top_draw.bitmap((x0, y0), cur_arrow, arrow_color)\n",
    "        bot_draw.bitmap((x1, y1), cur_arrow, arrow_color)\n",
    "        \n",
    "    full_image = Image.new(\"RGB\", (2 * back_image.size[0], back_image.size[1]))\n",
    "    full_image.paste(top_image, (0, 0))\n",
    "    full_image.paste(bot_image, (back_image.size[0], 0))\n",
    "\n",
    "    return full_image, direction\n",
    "    "
   ]
  },
  {
   "cell_type": "code",
   "execution_count": null,
   "metadata": {
    "collapsed": false,
    "scrolled": true
   },
   "outputs": [],
   "source": [
    "\"\"\"FOR REAL BACKGROUNDS\"\"\"\n",
    "classes = open(\"../labels.csv\", \"w+\")\n",
    "for i, back_name in enumerate(os.listdir(back_dir)):\n",
    "    if i % 1000 == 0:\n",
    "        my_print(\"\\r i = %i\" % i)\n",
    "    back_path = os.path.join(back_dir, back_name)\n",
    "    back_image = Image.open(back_path).convert(\"RGB\")\n",
    "    X, y = handle_true(back_image)\n",
    "    X.save(os.path.join(input_dir, str(i) + \".png\"), \"PNG\")\n",
    "    classes.write(str(i) + \",\" + str(y) + \"\\n\")\n",
    "    \n",
    "classes.close()\n",
    "    "
   ]
  },
  {
   "cell_type": "code",
   "execution_count": 8,
   "metadata": {
    "collapsed": false
   },
   "outputs": [
    {
     "name": "stdout",
     "output_type": "stream",
     "text": [
      " i = 9000"
     ]
    }
   ],
   "source": [
    "\"\"\"FOR BLACK BACKGROUNDS\"\"\"\n",
    "classes = open(\"../labels.csv\", \"w+\")\n",
    "for i in xrange(10000):\n",
    "    if i % 1000 == 0:\n",
    "        my_print(\"\\r i = %i\" % i)\n",
    "    back_image = Image.new(\"RGB\", back_size)\n",
    "    X, y = handle_true(back_image)\n",
    "    X.save(os.path.join(input_dir, str(i) + \".png\"), \"PNG\")\n",
    "    classes.write(str(i) + \",\" + str(y) + \"\\n\")\n",
    "    \n",
    "classes.close()\n",
    "    "
   ]
  },
  {
   "cell_type": "code",
   "execution_count": 15,
   "metadata": {
    "collapsed": true
   },
   "outputs": [],
   "source": [
    "k = rand.randint(0, 10000)\n",
    "img = Image.open(\"../input/\" + str(k) + \".png\") \n",
    "img.show()"
   ]
  },
  {
   "cell_type": "code",
   "execution_count": null,
   "metadata": {
    "collapsed": true
   },
   "outputs": [],
   "source": []
  }
 ],
 "metadata": {
  "kernelspec": {
   "display_name": "Python 2",
   "language": "python",
   "name": "python2"
  },
  "language_info": {
   "codemirror_mode": {
    "name": "ipython",
    "version": 2
   },
   "file_extension": ".py",
   "mimetype": "text/x-python",
   "name": "python",
   "nbconvert_exporter": "python",
   "pygments_lexer": "ipython2",
   "version": "2.7.9"
  }
 },
 "nbformat": 4,
 "nbformat_minor": 0
}
