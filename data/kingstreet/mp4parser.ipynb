{
 "cells": [
  {
   "cell_type": "code",
   "execution_count": 15,
   "metadata": {
    "collapsed": false
   },
   "outputs": [
    {
     "name": "stdout",
     "output_type": "stream",
     "text": [
      "Populating the interactive namespace from numpy and matplotlib\n"
     ]
    },
    {
     "name": "stderr",
     "output_type": "stream",
     "text": [
      "WARNING: pylab import has clobbered these variables: ['f']\n",
      "`%matplotlib` prevents importing * from pylab and numpy\n"
     ]
    }
   ],
   "source": [
    "%pylab inline"
   ]
  },
  {
   "cell_type": "code",
   "execution_count": 30,
   "metadata": {
    "collapsed": true
   },
   "outputs": [],
   "source": [
    "import subprocess as sp\n",
    "import numpy as np\n",
    "import os\n",
    "import PIL.Image as Image\n",
    "\n",
    "FFMPEG_BIN = \"ffmpeg\""
   ]
  },
  {
   "cell_type": "code",
   "execution_count": 17,
   "metadata": {
    "collapsed": true
   },
   "outputs": [],
   "source": [
    "def create_dir(path):\n",
    "    if not os.path.exists(path):\n",
    "        os.makedirs(path)\n",
    "        \n",
    "def randfloat(a, b):\n",
    "    return rand.random() * (b - a) + a\n",
    "\n",
    "def my_print(s):\n",
    "    sys.stdout.write(s)\n",
    "    sys.stdout.flush()"
   ]
  },
  {
   "cell_type": "code",
   "execution_count": 18,
   "metadata": {
    "collapsed": true
   },
   "outputs": [],
   "source": [
    "def get_pipe(path):\n",
    "    command = [ FFMPEG_BIN,\n",
    "            '-i', path,\n",
    "            '-f', 'image2pipe',\n",
    "            '-pix_fmt', 'rgb24',\n",
    "            '-vcodec', 'rawvideo', '-']\n",
    "    pipe = sp.Popen(command, stdout = sp.PIPE, bufsize=10**8)\n",
    "    return pipe\n",
    "\n",
    "def next_frame(pipe, frame_size):\n",
    "    length = frame_size[0] * frame_size[1] * frame_size[2]\n",
    "    raw_image = pipe.stdout.read(length)\n",
    "    if not raw_image:\n",
    "        return None\n",
    "    image =  np.fromstring(raw_image, dtype='uint8')\n",
    "    image = image.reshape(frame_size)\n",
    "    pipe.stdout.flush()\n",
    "    return image"
   ]
  },
  {
   "cell_type": "code",
   "execution_count": null,
   "metadata": {
    "collapsed": false
   },
   "outputs": [
    {
     "name": "stdout",
     "output_type": "stream",
     "text": [
      "Current frame: 35000"
     ]
    }
   ],
   "source": [
    "FRAME_SIZE = (720, 1280, 3) # reversed\n",
    "OUTPUT_SIZE = (720, 405)\n",
    "#fps = 30\n",
    "freq = 10\n",
    "\n",
    "# for f in ['001', '002', '003']:\n",
    "for f in ['002', '003']:\n",
    "    video_path = './video/' + f + '.mp4'\n",
    "    output_dir = './frames/' + f\n",
    "    create_dir(output_dir)\n",
    "    pipe = get_pipe(video_path)\n",
    "    i = 0\n",
    "    while True:\n",
    "        if i % 1000 == 0:\n",
    "            my_print('\\rCurrent frame: %i' % i)\n",
    "        image = next_frame(pipe, FRAME_SIZE)\n",
    "        if image is None:\n",
    "            break\n",
    "        if i % freq == 0:\n",
    "            resized = Image.fromarray(image).resize(OUTPUT_SIZE)\n",
    "            image_path = os.path.join(output_dir, str(i / freq) + '.png')\n",
    "            resized.save(image_path, 'PNG')\n",
    "        i += 1\n",
    "    "
   ]
  },
  {
   "cell_type": "code",
   "execution_count": null,
   "metadata": {
    "collapsed": true
   },
   "outputs": [],
   "source": []
  }
 ],
 "metadata": {
  "kernelspec": {
   "display_name": "Python 2",
   "language": "python",
   "name": "python2"
  },
  "language_info": {
   "codemirror_mode": {
    "name": "ipython",
    "version": 2
   },
   "file_extension": ".py",
   "mimetype": "text/x-python",
   "name": "python",
   "nbconvert_exporter": "python",
   "pygments_lexer": "ipython2",
   "version": "2.7.9"
  }
 },
 "nbformat": 4,
 "nbformat_minor": 0
}
